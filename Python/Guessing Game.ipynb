{
 "cells": [
  {
   "cell_type": "markdown",
   "id": "c756f0ec-b073-4eb6-990f-772f97f667d9",
   "metadata": {},
   "source": [
    "# Guessing Game\n",
    "- __[Djangocentral](https://djangocentral.com/creating-a-guessing-game-in-python/)__"
   ]
  },
  {
   "cell_type": "code",
   "execution_count": 5,
   "id": "72f27964-1cd0-4fc3-98b8-f4500f6d7d53",
   "metadata": {},
   "outputs": [
    {
     "name": "stdin",
     "output_type": "stream",
     "text": [
      "Hello, What's your name?  Labrador\n"
     ]
    },
    {
     "name": "stdout",
     "output_type": "stream",
     "text": [
      "Okay, Labrador! I have selected a number between 1 and 10. Enter your guess (1 to 10)?\n"
     ]
    },
    {
     "name": "stdin",
     "output_type": "stream",
     "text": [
      " 0\n"
     ]
    },
    {
     "name": "stdout",
     "output_type": "stream",
     "text": [
      "Invalid input Labrador! Please enter a number between 1 and 10.\n"
     ]
    },
    {
     "name": "stdin",
     "output_type": "stream",
     "text": [
      " 5\n"
     ]
    },
    {
     "name": "stdout",
     "output_type": "stream",
     "text": [
      "Your guess is too low.\n"
     ]
    },
    {
     "name": "stdin",
     "output_type": "stream",
     "text": [
      " 8\n"
     ]
    },
    {
     "name": "stdout",
     "output_type": "stream",
     "text": [
      "Your guess is too low.\n"
     ]
    },
    {
     "name": "stdin",
     "output_type": "stream",
     "text": [
      " 9\n"
     ]
    },
    {
     "name": "stdout",
     "output_type": "stream",
     "text": [
      "Congratulations, Labrador! You guessed the number in 4 tries!\n"
     ]
    }
   ],
   "source": [
    "import random\n",
    "\n",
    "def number_guessing_game():\n",
    "    number = random.randint(1, 10)\n",
    "\n",
    "    player_name = input(\"Hello, What's your name? \")\n",
    "    number_of_guesses = 0\n",
    "\n",
    "    print(\"Okay, \" + player_name + \"! I have selected a number between 1 and 10. Enter your guess (1 to 10)?\")\n",
    "\n",
    "    while number_of_guesses < 5:\n",
    "        try:\n",
    "            guess = int(input())\n",
    "            number_of_guesses += 1\n",
    "    \n",
    "            if guess < 1 or guess > 10:\n",
    "                print(\"Invalid input \" + player_name + \"! Please enter a number between 1 and 10.\")\n",
    "            elif guess < number:\n",
    "                print('Your guess is too low.')\n",
    "            elif guess > number:\n",
    "                print('Your guess is too high.')\n",
    "            else:\n",
    "                break\n",
    "        except ValueError:\n",
    "            print(\"Invalid input \" + player_name + \"! Please enter a number between 1 and 10.\")\n",
    "\n",
    "    if guess == number:\n",
    "        print('Congratulations, ' + player_name + '! You guessed the number in ' + str(number_of_guesses) + ' tries!')\n",
    "    else:\n",
    "        print('Sorry, ' + player_name + ', you did not guess the number. The number was ' + str(number))\n",
    "\n",
    "if __name__ == \"__main__\":\n",
    "    number_guessing_game()"
   ]
  },
  {
   "cell_type": "code",
   "execution_count": null,
   "id": "0968744b-2b12-420e-b288-1937e3a3cc40",
   "metadata": {},
   "outputs": [],
   "source": []
  },
  {
   "cell_type": "code",
   "execution_count": null,
   "id": "2270de74-33fa-4d89-be41-a9babf263005",
   "metadata": {},
   "outputs": [],
   "source": []
  }
 ],
 "metadata": {
  "kernelspec": {
   "display_name": "Python 3 (ipykernel)",
   "language": "python",
   "name": "python3"
  },
  "language_info": {
   "codemirror_mode": {
    "name": "ipython",
    "version": 3
   },
   "file_extension": ".py",
   "mimetype": "text/x-python",
   "name": "python",
   "nbconvert_exporter": "python",
   "pygments_lexer": "ipython3",
   "version": "3.12.7"
  }
 },
 "nbformat": 4,
 "nbformat_minor": 5
}
