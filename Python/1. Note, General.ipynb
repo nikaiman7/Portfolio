{
 "cells": [
  {
   "cell_type": "markdown",
   "id": "6c47c967-c68b-46ba-8441-908e1e9c4a93",
   "metadata": {},
   "source": [
    "# Project: Brushing Up Python Skills\n",
    "Reference:\n",
    "> - __[Insane](https://www.theinsaneapp.com/2021/06/list-of-python-projects-with-source-code-and-tutorials.html#Rock-Paper-Scissors-with-Python)__ <br>\n",
    "\n",
    "Upon code/guide review, following projects will not proceed: <br>\n",
    "> <u>pygame:\n",
    "> - rationale: Completed 5 projects using pygame library\n",
    "> 1. Memory Puzzle Game\n",
    "> 2. Typing Speed Test Project using Python\n",
    "> 3. How to Make a Music Player in Python\n",
    "> 4. Build a 2D Platform Game with PyGame and Repl.it\n",
    ">\n",
    "> <u>matplotlib:\n",
    "> - rationale: Completed similar projects using matplotlib library\n",
    "> 1. Analyze your own Netflix Data with Python\n",
    "> 2. Find out How much Money you’ve Spent on Amazon\n",
    "\n",
    "KIV: <br>\n",
    "> - differences between MATLAB and Python? [DONE]\n",
    "\n",
    "NEXT: <br>\n",
    "> - Tweepy"
   ]
  },
  {
   "cell_type": "code",
   "execution_count": null,
   "id": "1bd972e8-b193-43f3-a3d4-d239d67ccd2a",
   "metadata": {},
   "outputs": [],
   "source": []
  },
  {
   "cell_type": "code",
   "execution_count": null,
   "id": "f92c46f9-fdfc-4bc4-88d8-0db3531815d8",
   "metadata": {},
   "outputs": [],
   "source": []
  }
 ],
 "metadata": {
  "kernelspec": {
   "display_name": "Python 3 (ipykernel)",
   "language": "python",
   "name": "python3"
  },
  "language_info": {
   "codemirror_mode": {
    "name": "ipython",
    "version": 3
   },
   "file_extension": ".py",
   "mimetype": "text/x-python",
   "name": "python",
   "nbconvert_exporter": "python",
   "pygments_lexer": "ipython3",
   "version": "3.12.7"
  }
 },
 "nbformat": 4,
 "nbformat_minor": 5
}
