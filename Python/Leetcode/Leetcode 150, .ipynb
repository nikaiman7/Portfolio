{
 "cells": [
  {
   "cell_type": "markdown",
   "id": "88ef135f-6bea-4df6-9c92-02d9125522a3",
   "metadata": {},
   "source": [
    "## References\n",
    "- __[Leetcode: Top Interview 150](https://leetcode.com/studyplan/top-interview-150/)__\n",
    "- __[Github: mdmzfzl](https://github.com/mdmzfzl/NeetCode-Solutions?tab=readme-ov-file)__\n",
    "- __[Github: shrenik-jain](https://github.com/shrenik-jain/neetcode-solutions/tree/main)__"
   ]
  },
  {
   "cell_type": "code",
   "execution_count": null,
   "id": "b94fb0e0-80ec-44be-a7c1-e212def36fa7",
   "metadata": {},
   "outputs": [],
   "source": []
  },
  {
   "cell_type": "code",
   "execution_count": null,
   "id": "c1507ae5-4096-4a1c-af71-9317d6b535fb",
   "metadata": {},
   "outputs": [],
   "source": []
  },
  {
   "cell_type": "markdown",
   "id": "c3a66f7b-afbe-4a7e-9418-a2f380c24b86",
   "metadata": {
    "jp-MarkdownHeadingCollapsed": true
   },
   "source": [
    "## Title\n",
    "Question: \n",
    ">  <br>\n",
    "\n",
    "Example:\n",
    "> Input: <br>\n",
    "> Output: <br>\n",
    "\n",
    "Key Idea:\n",
    ">  <br>"
   ]
  }
 ],
 "metadata": {
  "kernelspec": {
   "display_name": "Python 3 (ipykernel)",
   "language": "python",
   "name": "python3"
  },
  "language_info": {
   "codemirror_mode": {
    "name": "ipython",
    "version": 3
   },
   "file_extension": ".py",
   "mimetype": "text/x-python",
   "name": "python",
   "nbconvert_exporter": "python",
   "pygments_lexer": "ipython3",
   "version": "3.12.7"
  }
 },
 "nbformat": 4,
 "nbformat_minor": 5
}
